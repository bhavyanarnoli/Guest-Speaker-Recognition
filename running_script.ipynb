{
 "cells": [
  {
   "cell_type": "code",
   "execution_count": null,
   "metadata": {},
   "outputs": [],
   "source": [
    "import numpy as np\n",
    "import pandas as pd\n",
    "import matplotlib.pyplot as plt\n",
    "import seaborn as sns\n",
    "import os\n",
    "from spafe.features.gfcc import gfcc\n",
    "import librosa\n",
    "from sklearn import mixture\n",
    "from tqdm import tqdm\n",
    "# import cPickle\n",
    "# !pip install cPickle\n",
    "import pickle\n",
    "import librosa\n",
    "import numpy as np\n",
    "from librosa.core.spectrum import _spectrogram\n",
    "import os\n",
    "import soundfile as sf\n",
    "from tqdm import tqdm\n",
    "from audiomentations import AddBackgroundNoise, PolarityInversion\n",
    "from audiomentations import Compose, AddGaussianNoise, PitchShift, HighPassFilter,\\\n",
    "    AddGaussianSNR,AddShortNoises,ApplyImpulseResponse,BandPassFilter,Gain,TanhDistortion,\\\n",
    "    HighShelfFilter,HighPassFilter,LowPassFilter,LowShelfFilter,Limiter,LoudnessNormalization\n",
    "import random\n",
    "from sklearn import mixture\n",
    "import pickle\n",
    "import pyrubberband\n",
    "import random"
   ]
  },
  {
   "cell_type": "code",
   "execution_count": null,
   "metadata": {},
   "outputs": [],
   "source": [
    "def extract_features(path):\n",
    "    x,sr = librosa.load(path)\n",
    "    x_pre_emp = librosa.effects.preemphasis(x)\n",
    "    x_mfcc = librosa.feature.mfcc(y=x_pre_emp,sr=sr,n_mfcc=13)\n",
    "\n",
    "    delta_mfcc = librosa.feature.delta(x_mfcc)\n",
    "    double_delta_mfcc = librosa.feature.delta(delta_mfcc)\n",
    "    combined = np.vstack((x_mfcc,delta_mfcc,double_delta_mfcc))\n",
    "    return combined.T"
   ]
  },
  {
   "cell_type": "code",
   "execution_count": null,
   "metadata": {},
   "outputs": [],
   "source": [
    "model_path = '../ML_project/Models2'\n",
    "models = [pickle.load(open(model_path+'/'+fname,'rb')) for fname in os.listdir(model_path)]\n",
    "speakers   = [fname.split('.')[0] for fname in os.listdir(model_path)]\n",
    "folder_path = \"\"  # your path goes here (if you give folder)\n",
    "y_pred = []\n",
    "y_pred_dict = {}\n",
    "path1 = 'path_to_folder'\n",
    "testing = os.listdir(path1)\n",
    "# list_of_paths = []   # list of paths given at testing time\n",
    "for i in tqdm(testing):\n",
    "    path = i\n",
    "    features = extract_features(path1+'/'+path)\n",
    "    log_likelihood = np.zeros(len(models)) \n",
    "    for j in range(len(models)):\n",
    "        gmm = models[j]         #checking with each model one by one\n",
    "        scores = np.array(gmm.score(features))\n",
    "        log_likelihood[j] = scores.sum() \n",
    "\n",
    "    winner = np.argmax(log_likelihood) \n",
    "    y_pred.append(speakers[winner]) \n",
    "    y_pred_dict[i] = speakers[winner]\n",
    "y_pred_dict\n",
    "\n"
   ]
  },
  {
   "cell_type": "code",
   "execution_count": null,
   "metadata": {},
   "outputs": [],
   "source": []
  },
  {
   "cell_type": "code",
   "execution_count": null,
   "metadata": {},
   "outputs": [],
   "source": []
  }
 ],
 "metadata": {
  "language_info": {
   "name": "python"
  }
 },
 "nbformat": 4,
 "nbformat_minor": 2
}
